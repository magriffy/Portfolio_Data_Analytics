{
 "cells": [
  {
   "cell_type": "code",
   "execution_count": null,
   "metadata": {},
   "outputs": [
    {
     "data": {
      "text/plain": [
       "'\\nAuthor: Ryan Quirk, Huntley Hedrick, Matthew Griffith\\nFiles: Analysis.ipynb, BCHAIN-MKPRU.csv, LBMA-GOLD.csv\\nProject Description: \\n\\n'"
      ]
     },
     "execution_count": 1,
     "metadata": {},
     "output_type": "execute_result"
    }
   ],
   "source": [
    "\"\"\"\n",
    "Author: Ryan Quirk, Huntley Hedrick, Matthew Griffith\n",
    "Files: Analysis.ipynb, BCHAIN-MKPRU.csv, LBMA-GOLD.csv\n",
    "Project Description: \n",
    "\n",
    "\"\"\"\n",
    "\n",
    "\n",
    "# Clean data\n",
    "# Maybe measure volatiltity\n",
    "# Covariance, variance, and correlation"
   ]
  },
  {
   "cell_type": "code",
   "execution_count": null,
   "metadata": {},
   "outputs": [],
   "source": [
    "import pandas as pd\n",
    "import matplotlib as plt\n",
    "\n",
    "\n",
    "\n",
    "\n"
   ]
  }
 ],
 "metadata": {
  "kernelspec": {
   "display_name": "Python 3",
   "language": "python",
   "name": "python3"
  },
  "language_info": {
   "codemirror_mode": {
    "name": "ipython",
    "version": 3
   },
   "file_extension": ".py",
   "mimetype": "text/x-python",
   "name": "python",
   "nbconvert_exporter": "python",
   "pygments_lexer": "ipython3",
   "version": "3.12.1"
  }
 },
 "nbformat": 4,
 "nbformat_minor": 2
}
